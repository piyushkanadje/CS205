{
  "nbformat": 4,
  "nbformat_minor": 0,
  "metadata": {
    "colab": {
      "provenance": [],
      "gpuType": "T4",
      "authorship_tag": "ABX9TyOo4TPEtrH8b0TAQEugrpgu",
      "include_colab_link": true
    },
    "kernelspec": {
      "name": "python3",
      "display_name": "Python 3"
    },
    "language_info": {
      "name": "python"
    },
    "accelerator": "GPU",
    "gpuClass": "standard"
  },
  "cells": [
    {
      "cell_type": "markdown",
      "metadata": {
        "id": "view-in-github",
        "colab_type": "text"
      },
      "source": [
        "<a href=\"https://colab.research.google.com/github/piyushkanadje/CS205/blob/main/AI.ipynb\" target=\"_parent\"><img src=\"https://colab.research.google.com/assets/colab-badge.svg\" alt=\"Open In Colab\"/></a>"
      ]
    },
    {
      "cell_type": "code",
      "source": [
        "import copy\n",
        "import heapq as hq\n",
        "import time as timeCal\n"
      ],
      "metadata": {
        "id": "BBWSUcPy5Ubo"
      },
      "execution_count": null,
      "outputs": []
    },
    {
      "cell_type": "code",
      "source": [
        "\n",
        "#PIYUSH KANADJE IMPLEMENTATION\n",
        "print(\"Select an option to run the code:\\n\")\n",
        "print(\"1. Run on default input\\n\")\n",
        "print(\"2. Run on user input\\n\")\n",
        "\n",
        "def get_user_option():\n",
        "  while True:\n",
        "    option = int(input(\"Enter your option to run code: \"))\n",
        "    if option in [1,2]:\n",
        "      return option\n",
        "    else:\n",
        "      print(\"Please Enter the Correct Choice from 1 and 2!\")\n",
        "  \n",
        "input_demo = get_user_option()\n",
        "\n",
        "# If the user chooses to run the code on default input\n",
        "if input_demo == 1:\n",
        "  # Set the initial state array\n",
        "  initial_state_arr = [[1, 2, 0], [4, 5, 3], [7, 8, 6]]\n",
        "  # Set the goal state array\n",
        "  goal_state_arr = [[1, 2, 3], [4, 5, 6], [7, 8, 0]]\n",
        "else:\n",
        "  print(\"Please enter the puzzle dimension:\")\n",
        "  n = int(input())\n",
        "  print(\"Enter the elements of the initial state of the {}x{} puzzle, one row at a time. Enter 0 for an empty cell.\".format(n, n))\n",
        "  print()\n",
        "  print(\"For Example:\\n\" + \"For 2x2 matrix:\\n\" + \"(1,2) (3,0)\")\n",
        "  initial_state_arr = []\n",
        "  for _ in range(n):\n",
        "      initial_state_arr.append(list(map(int, input().split(','))))\n",
        "  print(\"Enter the elements of the goal state of the {}x{} puzzle, one row at a time. Enter 0 for an empty cell.\".format(n, n))\n",
        "  goal_state_arr = []\n",
        "  for _ in range(n):\n",
        "      goal_state_arr.append(list(map(int, input().split(','))))\n",
        "\n",
        "print(\"Printing the Initial State:\")\n",
        "for row in initial_state_arr:\n",
        "    for element in row:\n",
        "        print(element, end='|')\n",
        "    print()\n",
        "\n",
        "print(\"Printing the Goal State:\")\n",
        "for row in goal_state_arr:\n",
        "    for element in row:\n",
        "        print(element, end='|')\n",
        "    print()\n",
        "\n",
        "print(\"Enter the number of max iteration you want to run the Expand Function:\\n\")\n",
        "max_iteration = int(input())"
      ],
      "metadata": {
        "colab": {
          "base_uri": "https://localhost:8080/"
        },
        "id": "JbzDB13cR964",
        "outputId": "42eb2448-c2f2-42b2-8f81-7a303504af3e"
      },
      "execution_count": null,
      "outputs": [
        {
          "name": "stdout",
          "output_type": "stream",
          "text": [
            "Select an option to run the code:\n",
            "\n",
            "1. Run on default input\n",
            "\n",
            "2. Run on user input\n",
            "\n",
            "Enter your option to run code: 2\n",
            "Please enter the puzzle dimension:\n",
            "3\n",
            "Enter the elements of the initial state of the 3x3 puzzle, one row at a time. Enter 0 for an empty cell.\n",
            "\n",
            "For Example:\n",
            "For 2x2 matrix:\n",
            "(1,2) (3,0)\n",
            "8,7,1\n",
            "6,0,2\n",
            "5,4,3\n",
            "Enter the elements of the goal state of the 3x3 puzzle, one row at a time. Enter 0 for an empty cell.\n",
            "1,2,3\n",
            "4,5,6\n",
            "7,8,0\n",
            "Printing the Initial State:\n",
            "8|7|1|\n",
            "6|0|2|\n",
            "5|4|3|\n",
            "Printing the Goal State:\n",
            "1|2|3|\n",
            "4|5|6|\n",
            "7|8|0|\n",
            "Enter the number of max iteration you want to run the Expand Function:\n",
            "\n",
            "1000000\n"
          ]
        }
      ]
    },
    {
      "cell_type": "code",
      "source": [
        "print(\"Select algorithm:\\n\")\n",
        "print(\" 1. Uniform Cost Search\\n\")\n",
        "print(\" 2. A* Misplaced Tile Heuristic\\n\")\n",
        "print(\" 3. A* Manhattan Distance Heuristic\\n\")\n",
        "def get_algorithm_choice():\n",
        "  while True:\n",
        "    algorithm_choice = input(\"Enter your choice: \")\n",
        "    if algorithm_choice in [\"1\", \"2\", \"3\"]:\n",
        "      return algorithm_choice\n",
        "    else:\n",
        "      print(\"Invalid choice. Please enter a valid choice.\")\n",
        "heuristic = int(get_algorithm_choice()) "
      ],
      "metadata": {
        "colab": {
          "base_uri": "https://localhost:8080/"
        },
        "id": "oDUqHZ-zBVfK",
        "outputId": "59dd92ea-c0ff-4052-e556-4a7bbdf07240"
      },
      "execution_count": null,
      "outputs": [
        {
          "name": "stdout",
          "output_type": "stream",
          "text": [
            "Select algorithm:\n",
            "\n",
            " 1. Uniform Cost Search\n",
            "\n",
            " 2. A* Misplaced Tile Heuristic\n",
            "\n",
            " 3. A* Manhattan Distance Heuristic\n",
            "\n",
            "Enter your choice: 3\n"
          ]
        }
      ]
    },
    {
      "cell_type": "code",
      "source": [
        "heuristic\n"
      ],
      "metadata": {
        "colab": {
          "base_uri": "https://localhost:8080/"
        },
        "id": "kc5Lf3LXA9tS",
        "outputId": "9a4c853e-d404-4022-c866-7f7f9189777e"
      },
      "execution_count": null,
      "outputs": [
        {
          "output_type": "execute_result",
          "data": {
            "text/plain": [
              "3"
            ]
          },
          "metadata": {},
          "execution_count": 293
        }
      ]
    },
    {
      "cell_type": "code",
      "source": [
        "\n",
        "def manhattan_distance(state, goal):\n",
        "    distance_sum = 0  # Initialize the variable to store the sum of Manhattan distances\n",
        "    \n",
        "    # Iterate through each row of the state\n",
        "    for i in range(len(state)):\n",
        "        # Iterate through each column of the state\n",
        "        for j in range(len(state[i])):\n",
        "            tile_value = state[i][j]  # Get the value of the current tile in the state\n",
        "            \n",
        "            # Check if the tile value is not 0 (empty) and is not in the correct position in the goal state\n",
        "            if tile_value != 0 and tile_value != goal[i][j]:\n",
        "                # Iterate through each row of the goal state to find the correct position of the tile value\n",
        "                for x in range(len(goal)):\n",
        "                    if tile_value in goal[x]:  # Check if the tile value is present in the current row\n",
        "                        goal_row = x  # Store the row index of the tile value in the goal state\n",
        "                        goal_col = goal[x].index(tile_value)  # Store the column index of the tile value in the goal state\n",
        "                        break\n",
        "                \n",
        "                # Calculate the Manhattan distance between the current tile position and its correct position\n",
        "                distance = abs(i - goal_row) + abs(j - goal_col)\n",
        "                distance_sum += distance  # Add the distance to the total sum of distances\n",
        "    \n",
        "    return distance_sum"
      ],
      "metadata": {
        "id": "dSIlKox-mVfS"
      },
      "execution_count": null,
      "outputs": []
    },
    {
      "cell_type": "code",
      "source": [
        "def misplaced_tiles(state, goal):\n",
        "    count = 0\n",
        "    for i in range(0, len(state)):\n",
        "        for j in range(0,len(state)):\n",
        "            # Check if the current tile is the empty tile (represented by 0)\n",
        "            if state[i][j] == 0:\n",
        "                continue  # Skip the empty tile and move to the next tile\n",
        "\n",
        "            # Check if the current tile in the state is different from the corresponding tile in the goal\n",
        "            if (state[i][j] != goal[i][j]):\n",
        "                count += 1  # Increment the count of misplaced tiles\n",
        "\n",
        "    return count\n"
      ],
      "metadata": {
        "id": "OCyvihsU9JbB"
      },
      "execution_count": null,
      "outputs": []
    },
    {
      "cell_type": "code",
      "source": [
        "def verify(array1, array2):\n",
        "    # Check if the arrays have the same dimensions\n",
        "    if len(array1) != len(array2) or len(array1[0]) != len(array2[0]):\n",
        "        return False\n",
        "    for i in range(len(array1)):\n",
        "        for j in range(len(array1[0])):\n",
        "            if array1[i][j] != array2[i][j]:\n",
        "                return False\n",
        "    return True"
      ],
      "metadata": {
        "id": "2q8Km8oefh73"
      },
      "execution_count": null,
      "outputs": []
    },
    {
      "cell_type": "code",
      "source": [
        "\n",
        "import heapq as hq\n",
        "class Tree_Node:\n",
        "  \"\"\"    \n",
        "    parent: Parent Node, None if Root\n",
        "    state: State of the Node \n",
        "    intial_cost: Cost of Start node to the current node\n",
        "    goal_cost: Estimated cost from goal node \n",
        "    children: A list of the child nodes.\n",
        "  \"\"\"\n",
        "  def __init__(self, parent=None, state=None, intial_cost=0, goal_cost=0):\n",
        "        self.parent = parent\n",
        "        self.state = state\n",
        "        self.intial_cost = intial_cost\n",
        "        self.goal_cost = goal_cost\n",
        "        self.children = []\n",
        "\n",
        "  def __eq__(self, another):\n",
        "    return self.state == another.state\n",
        "  def __lt__(self, another):\n",
        "    return (self.intial_cost + self.goal_cost) < (another.intial_cost + another.goal_cost)\n",
        "  def childAdd(self, node, expand_cost=1):\n",
        "    \"\"\"\n",
        "      node: The node to add as a child.\n",
        "      expand_cost:  Expand Cost of the node\n",
        "    \"\"\"\n",
        "    # Set the child's cost from start to the parent's cost from start plus the cost to expand.\n",
        "    node.intial_cost = self.intial_cost + expand_cost\n",
        "    # Set the child's parent to the current node.\n",
        "    node.parent = self\n",
        "    # Add the child to the list of children.\n",
        "    self.children.append(node)\n",
        "    \n",
        "  def expand(self):\n",
        "      indices = [(i, j) for i in range(len(self.state)) for j in range(len(self.state[i])) if self.state[i][j] == 0]\n",
        "      i_loc_zero, j_loc_zero = indices[0] if indices else (None, None)\n",
        "      len_state = len(self.state)\n",
        "      return_state = []\n",
        "\n",
        "      def move_up():\n",
        "          # Move the tile up by swapping with the tile above it\n",
        "          function_state = copy.deepcopy(self.state)\n",
        "          function_state[i_loc_zero][j_loc_zero], function_state[i_loc_zero - 1][j_loc_zero] = function_state[i_loc_zero - 1][j_loc_zero], function_state[i_loc_zero][j_loc_zero]\n",
        "          if self.parent and verify(function_state, self.parent.state):\n",
        "              # Skip adding the state if it matches the parent's state\n",
        "              return_state.append(None)\n",
        "          else:\n",
        "              return_state.append(function_state)\n",
        "\n",
        "      def move_right():\n",
        "          # Move the tile right by swapping with the tile to the right of it\n",
        "          function_state = copy.deepcopy(self.state)\n",
        "          function_state[i_loc_zero][j_loc_zero], function_state[i_loc_zero][j_loc_zero + 1] = function_state[i_loc_zero][j_loc_zero + 1], function_state[i_loc_zero][j_loc_zero]\n",
        "          if self.parent and verify(function_state, self.parent.state):\n",
        "              # Skip adding the state if it matches the parent's state\n",
        "              return_state.append(None)\n",
        "          else:\n",
        "              return_state.append(function_state)\n",
        "\n",
        "      def move_down():\n",
        "          # Move the tile down by swapping with the tile below it\n",
        "          function_state = copy.deepcopy(self.state)\n",
        "          function_state[i_loc_zero][j_loc_zero], function_state[i_loc_zero + 1][j_loc_zero] = function_state[i_loc_zero + 1][j_loc_zero], function_state[i_loc_zero][j_loc_zero]\n",
        "          if self.parent and verify(function_state, self.parent.state):\n",
        "              # Skip adding the state if it matches the parent's state\n",
        "              return_state.append(None)\n",
        "          else:\n",
        "              return_state.append(function_state)\n",
        "\n",
        "      def move_left():\n",
        "          # Move the tile left by swapping with the tile to the left of it\n",
        "          function_state = copy.deepcopy(self.state)\n",
        "          function_state[i_loc_zero][j_loc_zero], function_state[i_loc_zero][j_loc_zero - 1] = function_state[i_loc_zero][j_loc_zero - 1], function_state[i_loc_zero][j_loc_zero]\n",
        "          if self.parent and verify(function_state, self.parent.state):\n",
        "              # Skip adding the state if it matches the parent's state\n",
        "              return_state.append(None)\n",
        "          else:\n",
        "              return_state.append(function_state)\n",
        "\n",
        "      # Perform the available moves based on the empty tile location\n",
        "      if i_loc_zero != 0:\n",
        "          move_up()\n",
        "\n",
        "      if j_loc_zero != (len_state - 1):\n",
        "          move_right()\n",
        "\n",
        "      if i_loc_zero != (len_state - 1):\n",
        "          move_down()\n",
        "\n",
        "      if j_loc_zero != 0:\n",
        "          move_left()\n",
        "\n",
        "      return return_state\n",
        "\n",
        "\n",
        "\n",
        "def general_search(start_state, goal_state, heuristic):\n",
        "\n",
        "  \"\"\"\n",
        "    start_state: The initial state of the search.\n",
        "    goal_state: The goal state of the search.\n",
        "    heuristic: A function that estimates the cost to the goal state from a given state.\n",
        "  \"\"\"\n",
        "  root = Tree_Node(state=start_state)\n",
        "\n",
        "  # Initialize the priority queue.\n",
        "  priority_queue = []\n",
        "  hq.heappush(priority_queue, root)\n",
        "\n",
        "  visited = []\n",
        "\n",
        "  # Initialize counters.\n",
        "  max_nodes_expanded = 1\n",
        "  nodes_expanded = 0\n",
        "  count = 0\n",
        "  # While the priority queue is not empty\n",
        "  while priority_queue:\n",
        "    if count > max_iteration-1:\n",
        "      print(\"maximum iteration count has been reached!\")\n",
        "      break\n",
        "    max_nodes_expanded = max(len(priority_queue), max_nodes_expanded)\n",
        "    # Pop the node with the highest priority from the priority queue.\n",
        "    current_node = hq.heappop(priority_queue)\n",
        "\n",
        "    # Check if the current node's state matches the goal state.\n",
        "    if verify(current_node.state, goal_state):\n",
        "      return nodes_expanded, max_nodes_expanded,current_node.intial_cost\n",
        "    else:\n",
        "      visited.append(current_node)\n",
        "      # Expand the current node and filter out None states.\n",
        "      expanded_states_list = [state for state in current_node.expand() if state]\n",
        "      # Check if there are no expanded states.\n",
        "      if expanded_states_list == []:\n",
        "        continue\n",
        "\n",
        "      # Iterate over the expanded states.\n",
        "      for expanded_state in expanded_states_list:\n",
        "        created_node = Tree_Node(state=expanded_state)\n",
        "\n",
        "        if((priority_queue and created_node in priority_queue) or (visited and created_node in visited)):\n",
        "          continue\n",
        "\n",
        "        # Calculate the cost to the goal based on the selected heuristic.\n",
        "        if heuristic == 3:\n",
        "          created_node.goal_cost = manhattan_distance(created_node.state, goal_state)\n",
        "        elif heuristic == 2:\n",
        "          created_node.goal_cost = misplaced_tiles(created_node.state, goal_state)\n",
        "\n",
        "        # Add the new node as a child of the current node and push it into the priority queue.\n",
        "        current_node.childAdd(node=created_node)\n",
        "        hq.heappush(priority_queue, created_node)\n",
        "      count+=1\n",
        "\n",
        "      nodes_expanded += 1\n",
        "\n",
        "  print(\"Couldn't find a solution!\")\n",
        "  return -1"
      ],
      "metadata": {
        "id": "jtMvCUjMY15Z"
      },
      "execution_count": null,
      "outputs": []
    },
    {
      "cell_type": "code",
      "source": [
        "\n",
        "print(heuristic)"
      ],
      "metadata": {
        "colab": {
          "base_uri": "https://localhost:8080/"
        },
        "id": "7il57pyaUL0f",
        "outputId": "7cffeb6b-676f-4a99-c441-a261e7ec3d18"
      },
      "execution_count": null,
      "outputs": [
        {
          "output_type": "stream",
          "name": "stdout",
          "text": [
            "2\n"
          ]
        }
      ]
    },
    {
      "cell_type": "code",
      "source": [
        "start_time = timeCal.perf_counter()\n",
        "# Initialize the algorithm\n",
        "result = general_search(initial_state_arr, goal_state_arr, heuristic)\n",
        "stop_time = timeCal.perf_counter()\n",
        "execution_time_ms = round((stop_time - start_time) * 1000, 2)\n",
        "print(\"Hurray!\")\n",
        "print(\"The Desired Goal State Has Been Reached!\")\n",
        "print(\"Count of node_expanded:\", result[0])\n",
        "print(\"Maximum Number of nodes in Priority Queue:\", result[1])\n",
        "print(\"Deapth:\", result[2])\n",
        "\n",
        "print(\"--- %s milliseconds ---\" % execution_time_ms)\n"
      ],
      "metadata": {
        "colab": {
          "base_uri": "https://localhost:8080/"
        },
        "id": "cPU4xQ9LKGTt",
        "outputId": "abfe7ede-b091-4c46-848f-03fc63887083"
      },
      "execution_count": null,
      "outputs": [
        {
          "output_type": "stream",
          "name": "stdout",
          "text": [
            "Hurray!\n",
            "The Desired Goal State Has Been Reached!\n",
            "Count of node_expanded: 365\n",
            "Maximum Number of nodes in Priority Queue: 223\n",
            "Deapth: 22\n",
            "--- 41.1 milliseconds ---\n"
          ]
        }
      ]
    },
    {
      "cell_type": "code",
      "source": [],
      "metadata": {
        "id": "oXKW9DFNRwQ0"
      },
      "execution_count": null,
      "outputs": []
    }
  ]
}